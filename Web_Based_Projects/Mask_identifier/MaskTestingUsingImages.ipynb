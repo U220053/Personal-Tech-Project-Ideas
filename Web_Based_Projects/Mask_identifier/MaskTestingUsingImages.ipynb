{
 "cells": [
  {
   "cell_type": "markdown",
   "id": "791782a1",
   "metadata": {},
   "source": [
    "## Test the model in Images"
   ]
  },
  {
   "cell_type": "code",
   "execution_count": 1,
   "id": "1ec678e2",
   "metadata": {},
   "outputs": [],
   "source": [
    "from tensorflow.keras.applications.mobilenet_v2 import preprocess_input\n",
    "from tensorflow.keras.preprocessing.image import img_to_array\n",
    "from tensorflow.keras.models import load_model\n",
    "import numpy as np\n",
    "import cv2\n",
    "import os"
   ]
  },
  {
   "cell_type": "code",
   "execution_count": 2,
   "id": "80b976c6",
   "metadata": {},
   "outputs": [],
   "source": [
    "prototxtPath = os.path.sep.join([r'C:\\Users\\Nirmalya Majhi\\Desktop\\Fash Mask Detection\\Face Detector','deploy.prototxt'])\n",
    "weightsPath = os.path.sep.join([r'C:\\Users\\Nirmalya Majhi\\Desktop\\Fash Mask Detection\\Face Detector','res10_300x300_ssd_iter_140000.caffemodel'])\n"
   ]
  },
  {
   "cell_type": "code",
   "execution_count": 3,
   "id": "89289aee",
   "metadata": {},
   "outputs": [],
   "source": [
    "net = cv2.dnn.readNet(prototxtPath,weightsPath)"
   ]
  },
  {
   "cell_type": "markdown",
   "id": "6631c92a",
   "metadata": {},
   "source": [
    "#### Load the the saved model from the local computer"
   ]
  },
  {
   "cell_type": "code",
   "execution_count": 4,
   "id": "3a11ae20",
   "metadata": {},
   "outputs": [],
   "source": [
    "model = load_model(r'C:\\Users\\Nirmalya Majhi\\Desktop\\Fash Mask Detection\\mobilenet_v2_model.h5')"
   ]
  },
  {
   "cell_type": "code",
   "execution_count": 5,
   "id": "92453d97",
   "metadata": {},
   "outputs": [],
   "source": [
    "image = cv2.imread(r'C:\\Users\\Nirmalya Majhi\\Desktop\\Fash Mask Detection\\examples\\example1.png')"
   ]
  },
  {
   "cell_type": "code",
   "execution_count": 6,
   "id": "c21122a7",
   "metadata": {},
   "outputs": [
    {
     "data": {
      "text/plain": [
       "array([[[ 29,  22,  23],\n",
       "        [ 29,  22,  23],\n",
       "        [ 29,  22,  23],\n",
       "        ...,\n",
       "        [ 30,  21,  22],\n",
       "        [ 30,  21,  22],\n",
       "        [ 30,  21,  22]],\n",
       "\n",
       "       [[ 29,  22,  23],\n",
       "        [ 29,  22,  23],\n",
       "        [ 29,  22,  23],\n",
       "        ...,\n",
       "        [ 30,  21,  22],\n",
       "        [ 30,  21,  22],\n",
       "        [ 30,  21,  22]],\n",
       "\n",
       "       [[ 29,  22,  23],\n",
       "        [ 29,  22,  23],\n",
       "        [ 29,  22,  23],\n",
       "        ...,\n",
       "        [ 30,  21,  22],\n",
       "        [ 30,  21,  22],\n",
       "        [ 30,  21,  22]],\n",
       "\n",
       "       ...,\n",
       "\n",
       "       [[161, 140, 135],\n",
       "        [226, 205, 200],\n",
       "        [247, 226, 221],\n",
       "        ...,\n",
       "        [253, 247, 244],\n",
       "        [253, 247, 244],\n",
       "        [253, 247, 244]],\n",
       "\n",
       "       [[230, 209, 203],\n",
       "        [240, 219, 214],\n",
       "        [237, 216, 210],\n",
       "        ...,\n",
       "        [253, 247, 244],\n",
       "        [253, 247, 244],\n",
       "        [253, 247, 244]],\n",
       "\n",
       "       [[239, 218, 213],\n",
       "        [248, 228, 222],\n",
       "        [247, 226, 221],\n",
       "        ...,\n",
       "        [253, 247, 244],\n",
       "        [253, 247, 244],\n",
       "        [253, 247, 244]]], dtype=uint8)"
      ]
     },
     "execution_count": 6,
     "metadata": {},
     "output_type": "execute_result"
    }
   ],
   "source": [
    "image"
   ]
  },
  {
   "cell_type": "code",
   "execution_count": 7,
   "id": "05b12a07",
   "metadata": {},
   "outputs": [],
   "source": [
    "(h , w) = image.shape[:2]"
   ]
  },
  {
   "cell_type": "code",
   "execution_count": 8,
   "id": "c1412708",
   "metadata": {},
   "outputs": [],
   "source": [
    "blob = cv2.dnn.blobFromImage(image,1.0,(300,300),(104.0,177.0,123.0))"
   ]
  },
  {
   "cell_type": "code",
   "execution_count": 9,
   "id": "056649d4",
   "metadata": {},
   "outputs": [
    {
     "data": {
      "text/plain": [
       "array([[[[ -75.,  -75.,  -75., ...,  -74.,  -74.,  -74.],\n",
       "         [ -75.,  -75.,  -75., ...,  -74.,  -74.,  -74.],\n",
       "         [ -75.,  -75.,  -74., ...,  -74.,  -74.,  -74.],\n",
       "         ...,\n",
       "         [  -7.,   91.,  137., ...,  149.,  149.,  149.],\n",
       "         [  98.,  133.,  140., ...,  149.,  149.,  149.],\n",
       "         [ 135.,  142.,  137., ...,  149.,  149.,  149.]],\n",
       "\n",
       "        [[-155., -155., -155., ..., -156., -156., -156.],\n",
       "         [-155., -155., -155., ..., -156., -156., -156.],\n",
       "         [-155., -155., -155., ..., -156., -156., -156.],\n",
       "         ...,\n",
       "         [ -98.,   -1.,   45., ...,   70.,   70.,   70.],\n",
       "         [   4.,   39.,   46., ...,   70.,   70.,   70.],\n",
       "         [  41.,   48.,   43., ...,   70.,   70.,   70.]],\n",
       "\n",
       "        [[-100., -100., -100., ..., -101., -101., -101.],\n",
       "         [-100., -100., -100., ..., -101., -101., -101.],\n",
       "         [-100., -100., -100., ..., -101., -101., -101.],\n",
       "         ...,\n",
       "         [ -50.,   47.,   94., ...,  121.,  121.,  121.],\n",
       "         [  52.,   88.,   95., ...,  121.,  121.,  121.],\n",
       "         [  90.,   97.,   92., ...,  121.,  121.,  121.]]]], dtype=float32)"
      ]
     },
     "execution_count": 9,
     "metadata": {},
     "output_type": "execute_result"
    }
   ],
   "source": [
    "blob"
   ]
  },
  {
   "cell_type": "code",
   "execution_count": 10,
   "id": "454d0377",
   "metadata": {},
   "outputs": [
    {
     "data": {
      "text/plain": [
       "(1, 3, 300, 300)"
      ]
     },
     "execution_count": 10,
     "metadata": {},
     "output_type": "execute_result"
    }
   ],
   "source": [
    "blob.shape"
   ]
  },
  {
   "cell_type": "code",
   "execution_count": 11,
   "id": "7bb3b905",
   "metadata": {},
   "outputs": [],
   "source": [
    "net.setInput(blob)\n",
    "detections = net.forward()"
   ]
  },
  {
   "cell_type": "markdown",
   "id": "e3435272",
   "metadata": {},
   "source": [
    "#### loop over the detections"
   ]
  },
  {
   "cell_type": "code",
   "execution_count": 13,
   "id": "9f5db784",
   "metadata": {},
   "outputs": [
    {
     "name": "stdout",
     "output_type": "stream",
     "text": [
      "1/1 [==============================] - 1s 635ms/step\n"
     ]
    }
   ],
   "source": [
    "for i in range(0,detections.shape[2]):\n",
    "    confidence = detections[0,0,i,2]\n",
    "    \n",
    "    if confidence > 0.5 :\n",
    "        #we need the X,Y coordinates\n",
    "        box = detections[0,0,i,3:7] * np.array([w,h,w,h])\n",
    "        (startX,startY,endX,endY) = box.astype('int')\n",
    "        \n",
    "        #ensure the bounding boxes fall within the dimensions of the framemax\n",
    "        (startX,startY) = (max(0,startX), max(0,startY))\n",
    "        (endX,endY) = (min(w - 1,endX), min(h - 1,endY))\n",
    "        \n",
    "        #extract the face ROI, convert it from BGR to RGB channel, resize it to 224,224 and preprocess it\n",
    "        face = image[startY:endY, startX:endX]\n",
    "        face = cv2.cvtColor(face,cv2.COLOR_BGR2RGB)\n",
    "        face = cv2.resize(face,(224,224))\n",
    "        face = img_to_array(face)\n",
    "        face = preprocess_input(face)\n",
    "        face = np.expand_dims(face,axis=0)\n",
    "        \n",
    "        (mask,withoutMask) = model.predict(face)[0]\n",
    "        \n",
    "        #determine the class label and color we will use to draw the bounding box and text\n",
    "        label = 'Mask' if mask > withoutMask else 'No Mask'\n",
    "        color = (0,255,0) if label == 'Mask' else (0,0,255)\n",
    "        \n",
    "        #include the probability in the label\n",
    "        label = \"{}: {:.2f}%\".format(label,max(mask,withoutMask)*100)\n",
    "        \n",
    "        #display the label and bounding boxes\n",
    "        cv2.putText(image,label,(startX,startY-10),cv2.FONT_HERSHEY_SIMPLEX,0.45,color,2)\n",
    "        cv2.rectangle(image,(startX,startY),(endX,endY),color,2)\n",
    "        \n",
    "cv2.imshow(\"Output\",image)\n",
    "cv2.waitKey(0)\n",
    "cv2.destroyAllWindows()"
   ]
  },
  {
   "cell_type": "code",
   "execution_count": null,
   "id": "2e133a5b",
   "metadata": {},
   "outputs": [],
   "source": []
  }
 ],
 "metadata": {
  "kernelspec": {
   "display_name": "Python 3 (ipykernel)",
   "language": "python",
   "name": "python3"
  },
  "language_info": {
   "codemirror_mode": {
    "name": "ipython",
    "version": 3
   },
   "file_extension": ".py",
   "mimetype": "text/x-python",
   "name": "python",
   "nbconvert_exporter": "python",
   "pygments_lexer": "ipython3",
   "version": "3.9.5"
  }
 },
 "nbformat": 4,
 "nbformat_minor": 5
}
