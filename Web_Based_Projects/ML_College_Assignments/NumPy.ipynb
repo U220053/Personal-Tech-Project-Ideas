{
 "cells": [
  {
   "cell_type": "markdown",
   "id": "a36bf7d8",
   "metadata": {},
   "source": [
    "### 1. Take a 3X3 matrix randomly and another matrix by assigning elements. Now add the 2 matrix and store it in a separate matrix C."
   ]
  },
  {
   "cell_type": "code",
   "execution_count": 1,
   "id": "4556208d",
   "metadata": {},
   "outputs": [
    {
     "name": "stdout",
     "output_type": "stream",
     "text": [
      "a matrix = \n",
      " [[9 3 2]\n",
      " [9 5 9]\n",
      " [3 2 2]]\n",
      "b matrix = \n",
      " [[1 2 3]\n",
      " [4 5 6]\n",
      " [7 8 9]]\n",
      "c matrix = \n",
      " [[10  5  5]\n",
      " [13 10 15]\n",
      " [10 10 11]]\n"
     ]
    }
   ],
   "source": [
    "import numpy as np\n",
    "a = np.random.randint(1,10,(3,3))\n",
    "print('a matrix = \\n',a)\n",
    "b_list = [[1,2,3],[4,5,6],[7,8,9]]\n",
    "b = np.array(b_list)\n",
    "print('b matrix = \\n',b)\n",
    "c = a + b\n",
    "print('c matrix = \\n',c)"
   ]
  },
  {
   "cell_type": "markdown",
   "id": "2d78e895",
   "metadata": {},
   "source": [
    "### 2. Take 3X3 matrixes add it with another 3x3 of all 1 matrix and convert that to a complex datatype matrix."
   ]
  },
  {
   "cell_type": "code",
   "execution_count": 2,
   "id": "100ffb8d",
   "metadata": {},
   "outputs": [
    {
     "name": "stdout",
     "output_type": "stream",
     "text": [
      "a matrix = \n",
      " [[1 2 3]\n",
      " [4 5 6]\n",
      " [7 8 9]]\n",
      "b matrix = \n",
      " [[1 1 1]\n",
      " [1 1 1]\n",
      " [1 1 1]]\n",
      "c matrix = \n",
      " [[ 2.+0.j  3.+0.j  4.+0.j]\n",
      " [ 5.+0.j  6.+0.j  7.+0.j]\n",
      " [ 8.+0.j  9.+0.j 10.+0.j]]\n"
     ]
    }
   ],
   "source": [
    "import numpy as np\n",
    "a_list = [[1,2,3],[4,5,6],[7,8,9]]\n",
    "a = np.array(a_list)\n",
    "print('a matrix = \\n',a)\n",
    "b = np.ones((3,3),dtype=int)\n",
    "print('b matrix = \\n',b)\n",
    "c = np.add(a,b)\n",
    "c = np.array(c,dtype=complex)\n",
    "print('c matrix = \\n',c)"
   ]
  },
  {
   "cell_type": "markdown",
   "id": "760d367a",
   "metadata": {},
   "source": [
    "### 3. Take a 3X3 matrix and multiply element wise with 3X 3 another matrix."
   ]
  },
  {
   "cell_type": "code",
   "execution_count": 3,
   "id": "81a91c16",
   "metadata": {},
   "outputs": [
    {
     "name": "stdout",
     "output_type": "stream",
     "text": [
      "a matrix = \n",
      " [[1 2 3]\n",
      " [4 5 6]\n",
      " [7 8 9]]\n",
      "b matrix = \n",
      " [[1 0 0]\n",
      " [0 1 0]\n",
      " [0 0 1]]\n",
      "c matrix = \n",
      " [[1 0 0]\n",
      " [0 5 0]\n",
      " [0 0 9]]\n"
     ]
    }
   ],
   "source": [
    "import numpy as np\n",
    "a_list = [[1,2,3],[4,5,6],[7,8,9]]\n",
    "a = np.array(a_list)\n",
    "print('a matrix = \\n',a)\n",
    "b = np.eye(3,dtype=int)\n",
    "print('b matrix = \\n',b)\n",
    "c = a*b\n",
    "print('c matrix = \\n',c)"
   ]
  },
  {
   "cell_type": "markdown",
   "id": "25434888",
   "metadata": {},
   "source": [
    "### 4. Multiply 2 3X3 matrixes."
   ]
  },
  {
   "cell_type": "code",
   "execution_count": 4,
   "id": "ccc50be5",
   "metadata": {},
   "outputs": [
    {
     "name": "stdout",
     "output_type": "stream",
     "text": [
      "a matrix = \n",
      " [[1 2 3]\n",
      " [4 5 6]\n",
      " [7 8 9]]\n",
      "b matrix = \n",
      " [[1 0 0]\n",
      " [0 1 0]\n",
      " [0 0 1]]\n",
      "c matrix = \n",
      " [[1 2 3]\n",
      " [4 5 6]\n",
      " [7 8 9]]\n"
     ]
    }
   ],
   "source": [
    "import numpy as np\n",
    "a_list = [[1,2,3],[4,5,6],[7,8,9]]\n",
    "a = np.array(a_list)\n",
    "print('a matrix = \\n',a)\n",
    "b = np.eye(3,dtype=int)\n",
    "print('b matrix = \\n',b)\n",
    "c = a@b\n",
    "print('c matrix = \\n',c)"
   ]
  },
  {
   "cell_type": "markdown",
   "id": "f3366c99",
   "metadata": {},
   "source": [
    "### 5. Randomly generate 10 numbers in between 1 to 10 and convert that to a 5X2 matrix. Take a floating-point matrix and perform the addition. a= floating point matrix and b is an integer matrix of samedimension. Why a+=b is not equal to b+=a.Explain briefly. How can we resolve this problem?"
   ]
  },
  {
   "cell_type": "code",
   "execution_count": 5,
   "id": "1e9ad0a5",
   "metadata": {},
   "outputs": [
    {
     "name": "stdout",
     "output_type": "stream",
     "text": [
      "a matrix = \n",
      " [[7 3]\n",
      " [8 6]\n",
      " [7 2]\n",
      " [7 7]\n",
      " [8 4]]\n",
      "b matrix = \n",
      " [[0.20158343 0.18771561]\n",
      " [0.36202891 0.80469033]\n",
      " [0.16266698 0.49985948]\n",
      " [0.74402508 0.29152472]\n",
      " [0.80967768 0.53434798]]\n",
      "c matrix = \n",
      " [[7.20158343 3.18771561]\n",
      " [8.36202891 6.80469033]\n",
      " [7.16266698 2.49985948]\n",
      " [7.74402508 7.29152472]\n",
      " [8.80967768 4.53434798]]\n"
     ]
    }
   ],
   "source": [
    "import numpy as np\n",
    "a = np.random.randint(1,10,(5,2))\n",
    "print('a matrix = \\n',a)\n",
    "b = np.random.rand(5,2)\n",
    "print('b matrix = \\n',b)\n",
    "c = a + b\n",
    "print('c matrix = \\n',c)"
   ]
  },
  {
   "cell_type": "code",
   "execution_count": 6,
   "id": "7789651c",
   "metadata": {},
   "outputs": [
    {
     "data": {
      "text/plain": [
       "dtype('int32')"
      ]
     },
     "execution_count": 6,
     "metadata": {},
     "output_type": "execute_result"
    }
   ],
   "source": [
    "a.dtype"
   ]
  },
  {
   "cell_type": "code",
   "execution_count": 7,
   "id": "dbe18cec",
   "metadata": {},
   "outputs": [
    {
     "data": {
      "text/plain": [
       "dtype('float64')"
      ]
     },
     "execution_count": 7,
     "metadata": {},
     "output_type": "execute_result"
    }
   ],
   "source": [
    "b.dtype"
   ]
  },
  {
   "cell_type": "code",
   "execution_count": 8,
   "id": "03de1045",
   "metadata": {},
   "outputs": [
    {
     "data": {
      "text/plain": [
       "array([[7.20158343, 3.18771561],\n",
       "       [8.36202891, 6.80469033],\n",
       "       [7.16266698, 2.49985948],\n",
       "       [7.74402508, 7.29152472],\n",
       "       [8.80967768, 4.53434798]])"
      ]
     },
     "execution_count": 8,
     "metadata": {},
     "output_type": "execute_result"
    }
   ],
   "source": [
    "b += a\n",
    "b"
   ]
  },
  {
   "cell_type": "code",
   "execution_count": 9,
   "id": "6badcc96",
   "metadata": {},
   "outputs": [
    {
     "ename": "UFuncTypeError",
     "evalue": "Cannot cast ufunc 'add' output from dtype('float64') to dtype('int32') with casting rule 'same_kind'",
     "output_type": "error",
     "traceback": [
      "\u001b[1;31m---------------------------------------------------------------------------\u001b[0m",
      "\u001b[1;31mUFuncTypeError\u001b[0m                            Traceback (most recent call last)",
      "Input \u001b[1;32mIn [9]\u001b[0m, in \u001b[0;36m<cell line: 1>\u001b[1;34m()\u001b[0m\n\u001b[1;32m----> 1\u001b[0m a \u001b[38;5;241m+\u001b[39m\u001b[38;5;241m=\u001b[39m b\n\u001b[0;32m      2\u001b[0m a\n",
      "\u001b[1;31mUFuncTypeError\u001b[0m: Cannot cast ufunc 'add' output from dtype('float64') to dtype('int32') with casting rule 'same_kind'"
     ]
    }
   ],
   "source": [
    "a += b\n",
    "a"
   ]
  },
  {
   "cell_type": "markdown",
   "id": "801adbb5",
   "metadata": {},
   "source": [
    "a+=b adds a and b and stores the result in a and original matrix of a is overwritten. b+=a adds a and b and srores the result in b and original matrix of b is overwritten. To resolve it, we can store the result in another matrix c."
   ]
  },
  {
   "cell_type": "markdown",
   "id": "68347abe",
   "metadata": {},
   "source": [
    "### 6. Take x values and plot the cos(x) and tan(x) in a graph using matplotlib."
   ]
  },
  {
   "cell_type": "code",
   "execution_count": 10,
   "id": "e638f61a",
   "metadata": {},
   "outputs": [
    {
     "data": {
      "image/png": "[encoded data removed]",
      "text/plain": [
       "<Figure size 432x288 with 1 Axes>"
      ]
     },
     "metadata": {
      "needs_background": "light"
     },
     "output_type": "display_data"
    },
    {
     "data": {
      "image/png": "[encoded data removed]",
      "text/plain": [
       "<Figure size 432x288 with 1 Axes>"
      ]
     },
     "metadata": {
      "needs_background": "light"
     },
     "output_type": "display_data"
    }
   ],
   "source": [
    "import matplotlib.pyplot as plt\n",
    "import numpy as np\n",
    "x = np.linspace(-1,10,100)\n",
    "y = np.cos(x)\n",
    "z = np.tan(x)\n",
    "plt.plot(x,y)\n",
    "plt.show()\n",
    "plt.plot(x,z)\n",
    "plt.show()"
   ]
  },
  {
   "cell_type": "markdown",
   "id": "25ccbe79",
   "metadata": {},
   "source": [
    "### 7. Take a multidimensional array (3, 3, 3) and print the last column."
   ]
  },
  {
   "cell_type": "code",
   "execution_count": 11,
   "id": "3d0fa79b",
   "metadata": {},
   "outputs": [
    {
     "name": "stdout",
     "output_type": "stream",
     "text": [
      "a matrix = \n",
      " [[[1 8 4]\n",
      "  [1 5 9]\n",
      "  [4 7 2]]\n",
      "\n",
      " [[4 4 1]\n",
      "  [1 5 3]\n",
      "  [9 4 9]]\n",
      "\n",
      " [[9 7 5]\n",
      "  [8 3 8]\n",
      "  [4 5 3]]]\n",
      "last column = \n",
      " [[9 7 5]\n",
      " [8 3 8]\n",
      " [4 5 3]]\n"
     ]
    }
   ],
   "source": [
    "import numpy as np\n",
    "a = np.random.randint(1,10,(3,3,3))\n",
    "print('a matrix = \\n',a)\n",
    "print('last column = \\n',a[2])"
   ]
  },
  {
   "cell_type": "markdown",
   "id": "76ceaa2c",
   "metadata": {},
   "source": [
    "### 8. Take a function f(x) =x^3 + 5*y +4*z and determine the values and store them in a (3,3,3) matrix."
   ]
  },
  {
   "cell_type": "code",
   "execution_count": 12,
   "id": "f60cdabf",
   "metadata": {},
   "outputs": [
    {
     "name": "stdout",
     "output_type": "stream",
     "text": [
      "Stored matrix=\n",
      " [[[ 0  4  8]\n",
      "  [ 5  9 13]\n",
      "  [10 14 18]]\n",
      "\n",
      " [[ 1  5  9]\n",
      "  [ 6 10 14]\n",
      "  [11 15 19]]\n",
      "\n",
      " [[ 8 12 16]\n",
      "  [13 17 21]\n",
      "  [18 22 26]]]\n"
     ]
    }
   ],
   "source": [
    "import numpy as np\n",
    "def fun(x,y,z):\n",
    "    return x**3 + 5*y + 4*z\n",
    "a = np.fromfunction(fun,(3,3,3),dtype=int)\n",
    "print('Stored matrix=\\n',a)"
   ]
  },
  {
   "cell_type": "markdown",
   "id": "76b16e20",
   "metadata": {},
   "source": [
    "### 9. Using axis add the column values of a 3X3 matrix and then add it with the maximum values of rows taken in a 3X3 matrix"
   ]
  },
  {
   "cell_type": "code",
   "execution_count": 13,
   "id": "aaf5f765",
   "metadata": {},
   "outputs": [
    {
     "name": "stdout",
     "output_type": "stream",
     "text": [
      "a matrix=\n",
      " [[3 2 5]\n",
      " [3 1 5]\n",
      " [9 9 3]]\n",
      "column_sum matrix=\n",
      " [15 12 13]\n",
      "row_max matrix=\n",
      " [5 5 9]\n",
      "ans matrix=\n",
      " [20 17 22]\n"
     ]
    }
   ],
   "source": [
    "import numpy as np\n",
    "a=np.random.randint(1,10,(3,3))\n",
    "print('a matrix=\\n',a)\n",
    "b=a.sum(axis=0)\n",
    "print('column_sum matrix=\\n',b)\n",
    "c=a.max(axis=1)\n",
    "print('row_max matrix=\\n',c)\n",
    "d=b+c\n",
    "print('ans matrix=\\n',d)"
   ]
  },
  {
   "cell_type": "markdown",
   "id": "fc6a1174",
   "metadata": {},
   "source": [
    "### 10. f(x) = x^3 + 5y and store it in (3,3) matrix."
   ]
  },
  {
   "cell_type": "code",
   "execution_count": 14,
   "id": "bafdaaa3",
   "metadata": {},
   "outputs": [
    {
     "name": "stdout",
     "output_type": "stream",
     "text": [
      "Stored matrix=\n",
      " [[ 0  5 10]\n",
      " [ 1  6 11]\n",
      " [ 8 13 18]]\n"
     ]
    }
   ],
   "source": [
    "import numpy as np\n",
    "def f(x,y):\n",
    "    return x**3 + 5*y\n",
    "a=np.fromfunction(f,(3,3),dtype=int)\n",
    "print('Stored matrix=\\n',a)"
   ]
  },
  {
   "cell_type": "markdown",
   "id": "fea9b493",
   "metadata": {},
   "source": [
    "### 11. Take a function array 'a' cube with a range of 20 and find out what will be the value of a [[7,8], [9,11]].If we take values a [[7, 8], [9, 21]] will it take if not why?"
   ]
  },
  {
   "cell_type": "code",
   "execution_count": 15,
   "id": "34be9f00",
   "metadata": {},
   "outputs": [
    {
     "name": "stdout",
     "output_type": "stream",
     "text": [
      "cube matrix=\n",
      " [   0    1    8   27   64  125  216  343  512  729 1000 1331 1728 2197\n",
      " 2744 3375 4096 4913 5832 6859]\n",
      "ans matrix=\n",
      " [[ 343  512]\n",
      " [ 729 1331]]\n"
     ]
    }
   ],
   "source": [
    "import numpy as np\n",
    "a = np.arange(20)**3\n",
    "print('cube matrix=\\n',a)\n",
    "b=np.array([[7,8],[9,11]])\n",
    "print('ans matrix=\\n',a[b])"
   ]
  },
  {
   "cell_type": "code",
   "execution_count": 16,
   "id": "157e1de9",
   "metadata": {},
   "outputs": [
    {
     "ename": "IndexError",
     "evalue": "index 21 is out of bounds for axis 0 with size 20",
     "output_type": "error",
     "traceback": [
      "\u001b[1;31m---------------------------------------------------------------------------\u001b[0m",
      "\u001b[1;31mIndexError\u001b[0m                                Traceback (most recent call last)",
      "Input \u001b[1;32mIn [16]\u001b[0m, in \u001b[0;36m<cell line: 2>\u001b[1;34m()\u001b[0m\n\u001b[0;32m      1\u001b[0m c\u001b[38;5;241m=\u001b[39mnp\u001b[38;5;241m.\u001b[39marray([[\u001b[38;5;241m7\u001b[39m,\u001b[38;5;241m8\u001b[39m],[\u001b[38;5;241m9\u001b[39m,\u001b[38;5;241m21\u001b[39m]])\n\u001b[1;32m----> 2\u001b[0m \u001b[38;5;28mprint\u001b[39m(\u001b[38;5;124m'\u001b[39m\u001b[38;5;124mans matrix=\u001b[39m\u001b[38;5;130;01m\\n\u001b[39;00m\u001b[38;5;124m'\u001b[39m,\u001b[43ma\u001b[49m\u001b[43m[\u001b[49m\u001b[43mc\u001b[49m\u001b[43m]\u001b[49m)\n",
      "\u001b[1;31mIndexError\u001b[0m: index 21 is out of bounds for axis 0 with size 20"
     ]
    }
   ],
   "source": [
    "c=np.array([[7,8],[9,21]])\n",
    "print('ans matrix=\\n',a[c])"
   ]
  },
  {
   "cell_type": "markdown",
   "id": "62864788",
   "metadata": {},
   "source": [
    "If we take values a [[7,8],[9,21]] it will not work as index 21 is out of bounds for axis 0 of matrix a consists of only 20 elements."
   ]
  },
  {
   "cell_type": "markdown",
   "id": "692e7c04",
   "metadata": {},
   "source": [
    "### 12. Take a random number from 0 to 19 and make a 4X5 matrix then find the values of (i) 3rd row and 4th column only and (ii) only 4th column values."
   ]
  },
  {
   "cell_type": "code",
   "execution_count": 17,
   "id": "43eb4d95",
   "metadata": {},
   "outputs": [
    {
     "name": "stdout",
     "output_type": "stream",
     "text": [
      "a matrix=\n",
      " [[ 1  0  1  5  3]\n",
      " [ 3 16  0 15  7]\n",
      " [ 9  9  8 18  0]\n",
      " [ 9  7 13 15 13]]\n",
      "3rd row=\t [ 9  9  8 18  0]\n",
      "element at 3rd row and 4th column=\t 18\n",
      "4th column=\t [ 5 15 18 15]\n"
     ]
    }
   ],
   "source": [
    "import numpy as np\n",
    "a=np.random.randint(0,19,(4,5))\n",
    "print('a matrix=\\n',a)\n",
    "b=a[2]\n",
    "print('3rd row=\\t',b)\n",
    "c=a[2,3]\n",
    "print('element at 3rd row and 4th column=\\t',c)\n",
    "d=a[:,3]\n",
    "print('4th column=\\t',d)"
   ]
  },
  {
   "cell_type": "markdown",
   "id": "fbda340e",
   "metadata": {},
   "source": [
    "### 13. Take a matrix of 5X4 randomly and create 2 3x3 values i and j respectively and take a tuple named mwith i and j as an argument and generate the values of the matrix for the specified tuple. i<=4 and j<=3."
   ]
  },
  {
   "cell_type": "code",
   "execution_count": 18,
   "id": "0066938c",
   "metadata": {},
   "outputs": [
    {
     "name": "stdout",
     "output_type": "stream",
     "text": [
      "ans matrix=\n",
      " [[12 13 14]\n",
      " [10 16 16]\n",
      " [18 10 12]]\n"
     ]
    }
   ],
   "source": [
    "import numpy as np\n",
    "i=np.random.randint(0,3,(3,3))\n",
    "j=np.random.randint(0,3,(3,3))\n",
    "c=np.random.randint(10,20,(5,4))\n",
    "m=(i,j)\n",
    "print('ans matrix=\\n',c[m])"
   ]
  },
  {
   "cell_type": "markdown",
   "id": "b37e5eaa",
   "metadata": {},
   "source": [
    "### 14. Take a matrix of 3x3 and find out the Eigen vector and Eigen values of that matrix."
   ]
  },
  {
   "cell_type": "code",
   "execution_count": 19,
   "id": "936129c8",
   "metadata": {},
   "outputs": [
    {
     "name": "stdout",
     "output_type": "stream",
     "text": [
      "a matrix=\n",
      " [[0 7 5]\n",
      " [5 1 7]\n",
      " [4 8 9]]\n",
      "eigen values and eigen vectors=\n",
      " (array([16.43293737, -0.6408884 , -5.79204898]), array([[-0.43709339, -0.71697217,  0.68175761],\n",
      "       [-0.48513125, -0.3605248 , -0.70463076],\n",
      "       [-0.7573619 ,  0.59663454,  0.19672837]]))\n"
     ]
    }
   ],
   "source": [
    "import numpy as np\n",
    "a=np.random.randint(0,10,(3,3))\n",
    "print('a matrix=\\n',a)\n",
    "b=np.linalg.eig(a)\n",
    "print('eigen values and eigen vectors=\\n',b)"
   ]
  },
  {
   "cell_type": "markdown",
   "id": "5d447a4b",
   "metadata": {},
   "source": [
    "### 15. Take a matrix and by taking the i, j or x, y values implement the hstack and vstack methods."
   ]
  },
  {
   "cell_type": "code",
   "execution_count": 20,
   "id": "a71e23f6",
   "metadata": {},
   "outputs": [
    {
     "name": "stdout",
     "output_type": "stream",
     "text": [
      "x matrix=\n",
      " [0 2 4 6 8] \n",
      "y matrix=\n",
      " [0 1 2 3 4]\n",
      "hstack=\n",
      " [0 2 4 6 8 0 1 2 3 4] \n",
      "vstack=\n",
      " [[0 2 4 6 8]\n",
      " [0 1 2 3 4]]\n"
     ]
    }
   ],
   "source": [
    "import numpy as np\n",
    "x=np.arange(0,10,2)\n",
    "y=np.arange(5)\n",
    "print('x matrix=\\n',x,'\\ny matrix=\\n',y)\n",
    "m=np.hstack([x,y])\n",
    "n=np.vstack([x,y])\n",
    "print('hstack=\\n',m,'\\nvstack=\\n',n)"
   ]
  },
  {
   "cell_type": "code",
   "execution_count": null,
   "id": "aaf55289",
   "metadata": {},
   "outputs": [],
   "source": []
  }
 ],
 "metadata": {
  "kernelspec": {
   "display_name": "Python 3 (ipykernel)",
   "language": "python",
   "name": "python3"
  },
  "language_info": {
   "codemirror_mode": {
    "name": "ipython",
    "version": 3
   },
   "file_extension": ".py",
   "mimetype": "text/x-python",
   "name": "python",
   "nbconvert_exporter": "python",
   "pygments_lexer": "ipython3",
   "version": "3.9.5"
  }
 },
 "nbformat": 4,
 "nbformat_minor": 5
}
